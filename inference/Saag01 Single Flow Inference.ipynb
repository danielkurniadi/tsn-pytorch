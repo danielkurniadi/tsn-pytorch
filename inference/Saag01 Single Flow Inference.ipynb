{
 "cells": [
  {
   "cell_type": "markdown",
   "metadata": {},
   "source": [
    "# SAA-Aggression Dataset Inference"
   ]
  },
  {
   "cell_type": "code",
   "execution_count": 1,
   "metadata": {},
   "outputs": [],
   "source": [
    "\"\"\"\n",
    "Dataset      : Saag01\n",
    "Epochs       : 80 (total)\n",
    "Iterations   : 1361 (train), 341 (val), 190 (test)\n",
    "Batch_size   : 48\n",
    "Iters/Epoch  : 28\n",
    "\n",
    "Arch         : BNInception\n",
    "Modality     : ARP\n",
    "\"\"\";"
   ]
  },
  {
   "cell_type": "code",
   "execution_count": 2,
   "metadata": {},
   "outputs": [],
   "source": [
    "import os\n",
    "import numpy as np\n",
    "import pandas as pd"
   ]
  },
  {
   "cell_type": "code",
   "execution_count": 3,
   "metadata": {},
   "outputs": [],
   "source": [
    "def extract_index(basename):\n",
    "    index = basename.split('_')[-1]\n",
    "    return index\n",
    "\n",
    "# list all files' abspath in a directory\n",
    "def abs_listdir(directory):\n",
    "    directory = os.path.abspath(directory)\n",
    "    return [\n",
    "        os.path.join(directory, filename)\n",
    "        for filename in os.listdir(directory)\n",
    "    ]\n",
    "\n",
    "# format indexing\n",
    "def format_files_indexing(file_paths):\n",
    "    formatted_filepaths = []\n",
    "    for file_path in file_paths:\n",
    "        # assuming digit is located at the end of file name\n",
    "        basename, ext = os.path.splitext(file_path)\n",
    "        index = extract_index(basename)\n",
    "        if index.isdigit():\n",
    "            formatted_filename = basename.replace(index, \"{:05d}\".format(int(index))) + ext\n",
    "\n",
    "            os.rename(file_path, formatted_filename)\n",
    "            formatted_filepaths.append(formatted_filename)\n",
    "\n",
    "    return sorted(formatted_filepaths)"
   ]
  },
  {
   "cell_type": "code",
   "execution_count": 4,
   "metadata": {},
   "outputs": [],
   "source": [
    "SCORES_DIR = 'Scores/'\n",
    "\n",
    "SCORES_MAPDIR = {\n",
    "    'SAAG01':{\n",
    "        'ARP': {\n",
    "            '3_segments': os.path.join('Scores/', 'saag01_bni_arp_seg_3_scores_split_0'),\n",
    "            '7_segments': os.path.join('Scores/', 'saag01_bni_arp_seg_7_scores_split_0')\n",
    "        },\n",
    "        'Flow': {\n",
    "            '3_segments': os.path.join('Scores/', 'saag01_bni_flow_seg_3_scores_split_0'),\n",
    "            '7_segments': ''\n",
    "        }\n",
    "    }\n",
    "}"
   ]
  },
  {
   "cell_type": "markdown",
   "metadata": {},
   "source": [
    "## Dense Optical Flow (type I)"
   ]
  },
  {
   "cell_type": "code",
   "execution_count": 8,
   "metadata": {},
   "outputs": [],
   "source": [
    "SAAG01_Flow_3seg_dir = SCORES_MAPDIR['SAAG01']['Flow']['3_segments']  # choose the one with 3 segments"
   ]
  },
  {
   "cell_type": "code",
   "execution_count": 9,
   "metadata": {},
   "outputs": [
    {
     "data": {
      "text/plain": [
       "['/home/sliu/Desktop/inference/Scores/saag01_bni_flow_seg_3_scores_split_0/saag01_bni_flow_seg_3_scores_split_0_00308.npy',\n",
       " '/home/sliu/Desktop/inference/Scores/saag01_bni_flow_seg_3_scores_split_0/saag01_bni_flow_seg_3_scores_split_0_00336.npy',\n",
       " '/home/sliu/Desktop/inference/Scores/saag01_bni_flow_seg_3_scores_split_0/saag01_bni_flow_seg_3_scores_split_0_00364.npy',\n",
       " '/home/sliu/Desktop/inference/Scores/saag01_bni_flow_seg_3_scores_split_0/saag01_bni_flow_seg_3_scores_split_0_00392.npy',\n",
       " '/home/sliu/Desktop/inference/Scores/saag01_bni_flow_seg_3_scores_split_0/saag01_bni_flow_seg_3_scores_split_0_00420.npy']"
      ]
     },
     "execution_count": 9,
     "metadata": {},
     "output_type": "execute_result"
    }
   ],
   "source": [
    "# Index formatting for scores' files\n",
    "# this is for sorting consistency\n",
    "saag01_flow_3seg_files = format_files_indexing(abs_listdir(SAAG01_Flow_3seg_dir))\n",
    "\n",
    "saag01_flow_3seg_files[10:15]"
   ]
  },
  {
   "cell_type": "code",
   "execution_count": 10,
   "metadata": {},
   "outputs": [
    {
     "data": {
      "text/plain": [
       "(336,)"
      ]
     },
     "execution_count": 10,
     "metadata": {},
     "output_type": "execute_result"
    }
   ],
   "source": [
    "# Load labels\n",
    "split_val_0_file = 'saag01_validation_split_0.txt'\n",
    "label_df = pd.read_csv(split_val_0_file, \n",
    "                       delim_whitespace=True,\n",
    "                       header=None,\n",
    "                       names=['path', 'n_frames', 'label']\n",
    "                       \n",
    "# drop last 5 items since we used droplast=True, \n",
    "# hence batchsize = 48, and valset = 341; then the remainder is 5           )\n",
    "labels = label_df['label'][:-5] \n",
    "\n",
    "labels.shape"
   ]
  },
  {
   "cell_type": "code",
   "execution_count": 13,
   "metadata": {},
   "outputs": [
    {
     "data": {
      "text/html": [
       "<div>\n",
       "<style scoped>\n",
       "    .dataframe tbody tr th:only-of-type {\n",
       "        vertical-align: middle;\n",
       "    }\n",
       "\n",
       "    .dataframe tbody tr th {\n",
       "        vertical-align: top;\n",
       "    }\n",
       "\n",
       "    .dataframe thead th {\n",
       "        text-align: right;\n",
       "    }\n",
       "</style>\n",
       "<table border=\"1\" class=\"dataframe\">\n",
       "  <thead>\n",
       "    <tr style=\"text-align: right;\">\n",
       "      <th></th>\n",
       "      <th>0</th>\n",
       "      <th>1</th>\n",
       "    </tr>\n",
       "  </thead>\n",
       "  <tbody>\n",
       "    <tr>\n",
       "      <th>0</th>\n",
       "      <td>-0.712530</td>\n",
       "      <td>0.718903</td>\n",
       "    </tr>\n",
       "    <tr>\n",
       "      <th>1</th>\n",
       "      <td>-1.565154</td>\n",
       "      <td>1.555244</td>\n",
       "    </tr>\n",
       "    <tr>\n",
       "      <th>2</th>\n",
       "      <td>2.895567</td>\n",
       "      <td>-2.874315</td>\n",
       "    </tr>\n",
       "    <tr>\n",
       "      <th>3</th>\n",
       "      <td>1.898230</td>\n",
       "      <td>-1.891159</td>\n",
       "    </tr>\n",
       "    <tr>\n",
       "      <th>4</th>\n",
       "      <td>-3.237809</td>\n",
       "      <td>3.185252</td>\n",
       "    </tr>\n",
       "  </tbody>\n",
       "</table>\n",
       "</div>"
      ],
      "text/plain": [
       "          0         1\n",
       "0 -0.712530  0.718903\n",
       "1 -1.565154  1.555244\n",
       "2  2.895567 -2.874315\n",
       "3  1.898230 -1.891159\n",
       "4 -3.237809  3.185252"
      ]
     },
     "execution_count": 13,
     "metadata": {},
     "output_type": "execute_result"
    }
   ],
   "source": [
    "# Try one numpy score from a file\n",
    "saag01_score_sample = np.load(saag01_flow_3seg_files[-1])\n",
    "\n",
    "pd.DataFrame(saag01_score_sample).head()  # logits for two scores (before softmax)"
   ]
  },
  {
   "cell_type": "code",
   "execution_count": 14,
   "metadata": {},
   "outputs": [
    {
     "data": {
      "text/plain": [
       "(336, 2)"
      ]
     },
     "execution_count": 14,
     "metadata": {},
     "output_type": "execute_result"
    }
   ],
   "source": [
    "saag01_score_sample.shape"
   ]
  },
  {
   "cell_type": "markdown",
   "metadata": {},
   "source": [
    "### One-stream evaluation"
   ]
  },
  {
   "cell_type": "markdown",
   "metadata": {},
   "source": [
    "#### 1. Validation result"
   ]
  },
  {
   "cell_type": "code",
   "execution_count": 16,
   "metadata": {},
   "outputs": [
    {
     "name": "stdout",
     "output_type": "stream",
     "text": [
      "Iter: 00028\n",
      "Flow Acc: 0.717262\n",
      "Iter: 00056\n",
      "Flow Acc: 0.889881\n",
      "Iter: 00084\n",
      "Flow Acc: 0.830357\n",
      "Iter: 00112\n",
      "Flow Acc: 0.883929\n",
      "Iter: 00140\n",
      "Flow Acc: 0.895833\n",
      "Iter: 00168\n",
      "Flow Acc: 0.863095\n",
      "Iter: 00196\n",
      "Flow Acc: 0.845238\n",
      "Iter: 00224\n",
      "Flow Acc: 0.866071\n",
      "Iter: 00252\n",
      "Flow Acc: 0.824405\n",
      "Iter: 00280\n",
      "Flow Acc: 0.907738\n",
      "Iter: 00308\n",
      "Flow Acc: 0.898810\n",
      "Iter: 00336\n",
      "Flow Acc: 0.910714\n",
      "Iter: 00364\n",
      "Flow Acc: 0.910714\n",
      "Iter: 00392\n",
      "Flow Acc: 0.875000\n",
      "Iter: 00420\n",
      "Flow Acc: 0.931548\n",
      "Iter: 00448\n",
      "Flow Acc: 0.922619\n",
      "Iter: 00476\n",
      "Flow Acc: 0.901786\n",
      "Iter: 00504\n",
      "Flow Acc: 0.872024\n",
      "Iter: 00532\n",
      "Flow Acc: 0.845238\n",
      "Iter: 00560\n",
      "Flow Acc: 0.889881\n",
      "Iter: 00588\n",
      "Flow Acc: 0.901786\n",
      "Iter: 00616\n",
      "Flow Acc: 0.910714\n",
      "Iter: 00644\n",
      "Flow Acc: 0.916667\n",
      "Iter: 00672\n",
      "Flow Acc: 0.919643\n",
      "Iter: 00700\n",
      "Flow Acc: 0.910714\n",
      "Iter: 00728\n",
      "Flow Acc: 0.910714\n",
      "Iter: 00756\n",
      "Flow Acc: 0.922619\n",
      "Iter: 00784\n",
      "Flow Acc: 0.925595\n",
      "Iter: 00812\n",
      "Flow Acc: 0.922619\n",
      "Iter: 00840\n",
      "Flow Acc: 0.919643\n",
      "Iter: 00868\n",
      "Flow Acc: 0.916667\n",
      "Iter: 00896\n",
      "Flow Acc: 0.919643\n",
      "Iter: 00924\n",
      "Flow Acc: 0.922619\n",
      "Iter: 00952\n",
      "Flow Acc: 0.913690\n",
      "Iter: 00980\n",
      "Flow Acc: 0.922619\n",
      "Iter: 01008\n",
      "Flow Acc: 0.910714\n",
      "Iter: 01036\n",
      "Flow Acc: 0.910714\n",
      "Iter: 01064\n",
      "Flow Acc: 0.913690\n",
      "Iter: 01092\n",
      "Flow Acc: 0.922619\n",
      "Iter: 01120\n",
      "Flow Acc: 0.925595\n",
      "Iter: 01148\n",
      "Flow Acc: 0.919643\n",
      "Iter: 01176\n",
      "Flow Acc: 0.916667\n",
      "Iter: 01204\n",
      "Flow Acc: 0.919643\n",
      "Iter: 01232\n",
      "Flow Acc: 0.916667\n",
      "Iter: 01260\n",
      "Flow Acc: 0.922619\n",
      "Iter: 01288\n",
      "Flow Acc: 0.922619\n",
      "Iter: 01316\n",
      "Flow Acc: 0.916667\n",
      "Iter: 01344\n",
      "Flow Acc: 0.919643\n",
      "Iter: 01372\n",
      "Flow Acc: 0.916667\n",
      "Iter: 01400\n",
      "Flow Acc: 0.913690\n",
      "Iter: 01428\n",
      "Flow Acc: 0.919643\n",
      "Iter: 01456\n",
      "Flow Acc: 0.913690\n",
      "Iter: 01484\n",
      "Flow Acc: 0.925595\n",
      "Iter: 01512\n",
      "Flow Acc: 0.922619\n",
      "Iter: 01540\n",
      "Flow Acc: 0.913690\n",
      "Iter: 01568\n",
      "Flow Acc: 0.919643\n",
      "Iter: 01596\n",
      "Flow Acc: 0.919643\n",
      "Iter: 01624\n",
      "Flow Acc: 0.922619\n",
      "Iter: 01652\n",
      "Flow Acc: 0.916667\n",
      "Iter: 01680\n",
      "Flow Acc: 0.922619\n",
      "Iter: 01708\n",
      "Flow Acc: 0.916667\n",
      "Iter: 01736\n",
      "Flow Acc: 0.919643\n",
      "Iter: 01764\n",
      "Flow Acc: 0.910714\n",
      "Iter: 01792\n",
      "Flow Acc: 0.919643\n",
      "Iter: 01820\n",
      "Flow Acc: 0.919643\n",
      "Iter: 01848\n",
      "Flow Acc: 0.916667\n",
      "Iter: 01876\n",
      "Flow Acc: 0.916667\n",
      "Iter: 01904\n",
      "Flow Acc: 0.919643\n",
      "Iter: 01932\n",
      "Flow Acc: 0.919643\n",
      "Iter: 01960\n",
      "Flow Acc: 0.916667\n",
      "Iter: 01988\n",
      "Flow Acc: 0.916667\n",
      "Iter: 02016\n",
      "Flow Acc: 0.919643\n",
      "Iter: 02044\n",
      "Flow Acc: 0.919643\n",
      "Iter: 02072\n",
      "Flow Acc: 0.922619\n",
      "Iter: 02100\n",
      "Flow Acc: 0.922619\n",
      "Iter: 02128\n",
      "Flow Acc: 0.922619\n",
      "Iter: 02156\n",
      "Flow Acc: 0.922619\n",
      "Iter: 02184\n",
      "Flow Acc: 0.919643\n",
      "Iter: 02212\n",
      "Flow Acc: 0.919643\n",
      "Iter: 02240\n",
      "Flow Acc: 0.922619\n"
     ]
    }
   ],
   "source": [
    "# Num_segments: 3\n",
    "for scorefile in saag01_flow_3seg_files:\n",
    "    itername, _ = os.path.splitext(scorefile)\n",
    "    itername = extract_index(itername)\n",
    "    \n",
    "    print(\"Iter: %s\" % itername)\n",
    "    scores = np.load(scorefile)\n",
    "    pred1 = np.argmax(scores, axis=1)\n",
    "    acc = np.mean(pred1 == labels)\n",
    "    print(\"Flow Acc: %f\" % acc)"
   ]
  },
  {
   "cell_type": "markdown",
   "metadata": {},
   "source": [
    "#### 2. Test Result"
   ]
  },
  {
   "cell_type": "code",
   "execution_count": 17,
   "metadata": {},
   "outputs": [],
   "source": [
    "# load test labels\n",
    "split_test_file = 'saag01_test_split.txt'\n",
    "test_labels_df = pd.read_csv(split_test_file, \n",
    "                       delim_whitespace=True,\n",
    "                       header=None,\n",
    "                       names=['path', 'n_frames', 'label']\n",
    "                      )\n",
    "test_labels = test_labels_df['label']"
   ]
  },
  {
   "cell_type": "code",
   "execution_count": 18,
   "metadata": {},
   "outputs": [],
   "source": [
    "# Num_segments: 3\n",
    "test_score_file = os.path.join(SAAG01_Flow_3seg_dir,\n",
    "                               'saag01_bni_flow_seg_3_test_scores.npy')"
   ]
  },
  {
   "cell_type": "code",
   "execution_count": 19,
   "metadata": {},
   "outputs": [
    {
     "data": {
      "text/plain": [
       "(190,)"
      ]
     },
     "execution_count": 19,
     "metadata": {},
     "output_type": "execute_result"
    }
   ],
   "source": [
    "test_labels.shape"
   ]
  },
  {
   "cell_type": "code",
   "execution_count": 20,
   "metadata": {},
   "outputs": [
    {
     "name": "stdout",
     "output_type": "stream",
     "text": [
      "Test iterations\n",
      "Flow Test Acc: 0.900000\n"
     ]
    }
   ],
   "source": [
    "# Num_segments: 3\n",
    "print(\"Test iterations\")\n",
    "scores = np.load(test_score_file)\n",
    "pred1 = np.argmax(scores, axis=1)\n",
    "acc = np.mean(pred1 == test_labels)\n",
    "print(\"Flow Test Acc: %f\" % acc)"
   ]
  },
  {
   "cell_type": "code",
   "execution_count": null,
   "metadata": {},
   "outputs": [],
   "source": []
  }
 ],
 "metadata": {
  "kernelspec": {
   "display_name": "Python 3",
   "language": "python",
   "name": "python3"
  },
  "language_info": {
   "codemirror_mode": {
    "name": "ipython",
    "version": 3
   },
   "file_extension": ".py",
   "mimetype": "text/x-python",
   "name": "python",
   "nbconvert_exporter": "python",
   "pygments_lexer": "ipython3",
   "version": "3.6.8"
  }
 },
 "nbformat": 4,
 "nbformat_minor": 2
}
