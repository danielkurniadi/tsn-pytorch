{
 "cells": [
  {
   "cell_type": "markdown",
   "metadata": {},
   "source": [
    "# SAA-Aggression Dataset Inference"
   ]
  },
  {
   "cell_type": "code",
   "execution_count": 2,
   "metadata": {},
   "outputs": [],
   "source": [
    "\"\"\"\n",
    "Dataset      : Saag01\n",
    "Epochs       : 80 (total)\n",
    "Iterations   : 1361 (train), 341 (val), 190 (test)\n",
    "Batch_size   : 48\n",
    "Iters/Epoch  : 28\n",
    "\n",
    "Arch         : BNInception\n",
    "Modality     : ARP\n",
    "\"\"\";"
   ]
  },
  {
   "cell_type": "code",
   "execution_count": 1,
   "metadata": {},
   "outputs": [],
   "source": [
    "import os\n",
    "import numpy as np\n",
    "import pandas as pd"
   ]
  },
  {
   "cell_type": "code",
   "execution_count": 62,
   "metadata": {},
   "outputs": [],
   "source": [
    "def extract_index(basename):\n",
    "    index = basename.split('_')[-1]\n",
    "    return index\n",
    "\n",
    "# list all files' abspath in a directory\n",
    "def abs_listdir(directory):\n",
    "    directory = os.path.abspath(directory)\n",
    "    return [\n",
    "        os.path.join(directory, filename)\n",
    "        for filename in os.listdir(directory)\n",
    "    ]\n",
    "\n",
    "# format indexing\n",
    "def format_files_indexing(file_paths):\n",
    "    formatted_filepaths = []\n",
    "    for file_path in file_paths:\n",
    "        # assuming digit is located at the end of file name\n",
    "        basename, ext = os.path.splitext(file_path)\n",
    "        index = extract_index(basename)\n",
    "        if index.isdigit():\n",
    "            formatted_filename = basename.replace(index, \"{:05d}\".format(int(index))) + ext\n",
    "\n",
    "            os.rename(file_path, formatted_filename)\n",
    "            formatted_filepaths.append(formatted_filename)\n",
    "\n",
    "    return sorted(formatted_filepaths)"
   ]
  },
  {
   "cell_type": "code",
   "execution_count": 63,
   "metadata": {},
   "outputs": [],
   "source": [
    "SCORES_DIR = 'Scores/'\n",
    "\n",
    "SCORES_MAPDIR = {\n",
    "    'SAAG01':{\n",
    "        'ARP': {\n",
    "            '3_segments': os.path.join('Scores/', 'saag01_bni_arp_seg_3_scores_split_0'),\n",
    "            '7_segments': os.path.join('Scores/', 'saag01_bni_arp_seg_7_scores_split_0')\n",
    "        },\n",
    "        'Flow': {\n",
    "            '3_segments': os.path.join('Scores/', 'saag01_bni_flow_seg_3_scores_split_0'),\n",
    "            '7_segments': ''\n",
    "        }\n",
    "    }\n",
    "}"
   ]
  },
  {
   "cell_type": "markdown",
   "metadata": {},
   "source": [
    "## Approximated Rank Pooling"
   ]
  },
  {
   "cell_type": "code",
   "execution_count": 74,
   "metadata": {},
   "outputs": [],
   "source": [
    "SAAG01_ARP_3seg_dir = SCORES_MAPDIR['SAAG01']['ARP']['3_segments']  # choose the one with 3 segments\n",
    "SAAG01_ARP_7seg_dir = SCORES_MAPDIR['SAAG01']['ARP']['7_segments']  # choose the one with 7 segments"
   ]
  },
  {
   "cell_type": "code",
   "execution_count": 67,
   "metadata": {},
   "outputs": [
    {
     "data": {
      "text/plain": [
       "['/home/sliu/Desktop/inference/Scores/saag01_bni_arp_seg_3_scores_split_0/saag01_bni_arp_seg_3_scores_split_0_00308.npy',\n",
       " '/home/sliu/Desktop/inference/Scores/saag01_bni_arp_seg_3_scores_split_0/saag01_bni_arp_seg_3_scores_split_0_00336.npy',\n",
       " '/home/sliu/Desktop/inference/Scores/saag01_bni_arp_seg_3_scores_split_0/saag01_bni_arp_seg_3_scores_split_0_00364.npy',\n",
       " '/home/sliu/Desktop/inference/Scores/saag01_bni_arp_seg_3_scores_split_0/saag01_bni_arp_seg_3_scores_split_0_00392.npy',\n",
       " '/home/sliu/Desktop/inference/Scores/saag01_bni_arp_seg_3_scores_split_0/saag01_bni_arp_seg_3_scores_split_0_00420.npy']"
      ]
     },
     "execution_count": 67,
     "metadata": {},
     "output_type": "execute_result"
    }
   ],
   "source": [
    "# Index formatting for scores' files\n",
    "# this is for sorting consistency\n",
    "saag01_arp_3seg_files = format_files_indexing(abs_listdir(SAAG01_ARP_3seg_dir))\n",
    "saag01_arp_7seg_files = format_files_indexing(abs_listdir(SAAG01_ARP_7seg_dir))\n",
    "\n",
    "saag01_arp_3seg_files[10:15]"
   ]
  },
  {
   "cell_type": "code",
   "execution_count": 68,
   "metadata": {},
   "outputs": [
    {
     "data": {
      "text/plain": [
       "(336,)"
      ]
     },
     "execution_count": 68,
     "metadata": {},
     "output_type": "execute_result"
    }
   ],
   "source": [
    "# Load labels\n",
    "split_val_0_file = 'saag01_validation_split_0.txt'\n",
    "label_df = pd.read_csv(split_val_0_file, \n",
    "                       delim_whitespace=True,\n",
    "                       header=None,\n",
    "                       names=['path', 'n_frames', 'label']\n",
    "                      )\n",
    "\n",
    "# drop last 5 items since we used droplast=True, \n",
    "# hence batchsize = 48, and valset = 341; then the remainder is 5 \n",
    "labels = label_df['label'][:-5]\n",
    "\n",
    "labels.shape"
   ]
  },
  {
   "cell_type": "code",
   "execution_count": 69,
   "metadata": {},
   "outputs": [
    {
     "data": {
      "text/html": [
       "<div>\n",
       "<style scoped>\n",
       "    .dataframe tbody tr th:only-of-type {\n",
       "        vertical-align: middle;\n",
       "    }\n",
       "\n",
       "    .dataframe tbody tr th {\n",
       "        vertical-align: top;\n",
       "    }\n",
       "\n",
       "    .dataframe thead th {\n",
       "        text-align: right;\n",
       "    }\n",
       "</style>\n",
       "<table border=\"1\" class=\"dataframe\">\n",
       "  <thead>\n",
       "    <tr style=\"text-align: right;\">\n",
       "      <th></th>\n",
       "      <th>0</th>\n",
       "      <th>1</th>\n",
       "    </tr>\n",
       "  </thead>\n",
       "  <tbody>\n",
       "    <tr>\n",
       "      <th>0</th>\n",
       "      <td>-0.042839</td>\n",
       "      <td>0.002628</td>\n",
       "    </tr>\n",
       "    <tr>\n",
       "      <th>1</th>\n",
       "      <td>-0.299858</td>\n",
       "      <td>0.272666</td>\n",
       "    </tr>\n",
       "    <tr>\n",
       "      <th>2</th>\n",
       "      <td>3.966003</td>\n",
       "      <td>-3.968745</td>\n",
       "    </tr>\n",
       "    <tr>\n",
       "      <th>3</th>\n",
       "      <td>0.857336</td>\n",
       "      <td>-0.856593</td>\n",
       "    </tr>\n",
       "    <tr>\n",
       "      <th>4</th>\n",
       "      <td>-4.014513</td>\n",
       "      <td>3.995522</td>\n",
       "    </tr>\n",
       "  </tbody>\n",
       "</table>\n",
       "</div>"
      ],
      "text/plain": [
       "          0         1\n",
       "0 -0.042839  0.002628\n",
       "1 -0.299858  0.272666\n",
       "2  3.966003 -3.968745\n",
       "3  0.857336 -0.856593\n",
       "4 -4.014513  3.995522"
      ]
     },
     "execution_count": 69,
     "metadata": {},
     "output_type": "execute_result"
    }
   ],
   "source": [
    "# Try one numpy score from a file\n",
    "saag01_score_sample = np.load(saag01_arp_3seg_files[-1])\n",
    "\n",
    "pd.DataFrame(saag01_score_sample).head()  # logits for two scores (before softmax)"
   ]
  },
  {
   "cell_type": "code",
   "execution_count": 71,
   "metadata": {},
   "outputs": [
    {
     "data": {
      "text/plain": [
       "(336, 2)"
      ]
     },
     "execution_count": 71,
     "metadata": {},
     "output_type": "execute_result"
    }
   ],
   "source": [
    "saag01_score_sample.shape"
   ]
  },
  {
   "cell_type": "markdown",
   "metadata": {},
   "source": [
    "### One-stream Evaluation"
   ]
  },
  {
   "cell_type": "markdown",
   "metadata": {},
   "source": [
    "#### 1. Validation results"
   ]
  },
  {
   "cell_type": "code",
   "execution_count": 72,
   "metadata": {
    "scrolled": true
   },
   "outputs": [
    {
     "name": "stdout",
     "output_type": "stream",
     "text": [
      "Iter: 00028\n",
      "ARP Acc: 0.627976\n",
      "Iter: 00056\n",
      "ARP Acc: 0.794643\n",
      "Iter: 00084\n",
      "ARP Acc: 0.875000\n",
      "Iter: 00112\n",
      "ARP Acc: 0.613095\n",
      "Iter: 00140\n",
      "ARP Acc: 0.916667\n",
      "Iter: 00168\n",
      "ARP Acc: 0.854167\n",
      "Iter: 00196\n",
      "ARP Acc: 0.872024\n",
      "Iter: 00224\n",
      "ARP Acc: 0.892857\n",
      "Iter: 00252\n",
      "ARP Acc: 0.892857\n",
      "Iter: 00280\n",
      "ARP Acc: 0.898810\n",
      "Iter: 00308\n",
      "ARP Acc: 0.904762\n",
      "Iter: 00336\n",
      "ARP Acc: 0.916667\n",
      "Iter: 00364\n",
      "ARP Acc: 0.904762\n",
      "Iter: 00392\n",
      "ARP Acc: 0.869048\n",
      "Iter: 00420\n",
      "ARP Acc: 0.833333\n",
      "Iter: 00448\n",
      "ARP Acc: 0.776786\n",
      "Iter: 00476\n",
      "ARP Acc: 0.904762\n",
      "Iter: 00504\n",
      "ARP Acc: 0.913690\n",
      "Iter: 00532\n",
      "ARP Acc: 0.922619\n",
      "Iter: 00560\n",
      "ARP Acc: 0.943452\n",
      "Iter: 00588\n",
      "ARP Acc: 0.946429\n",
      "Iter: 00616\n",
      "ARP Acc: 0.940476\n",
      "Iter: 00644\n",
      "ARP Acc: 0.940476\n",
      "Iter: 00672\n",
      "ARP Acc: 0.952381\n",
      "Iter: 00700\n",
      "ARP Acc: 0.949405\n",
      "Iter: 00728\n",
      "ARP Acc: 0.943452\n",
      "Iter: 00756\n",
      "ARP Acc: 0.940476\n",
      "Iter: 00784\n",
      "ARP Acc: 0.949405\n",
      "Iter: 00812\n",
      "ARP Acc: 0.946429\n",
      "Iter: 00840\n",
      "ARP Acc: 0.922619\n",
      "Iter: 00868\n",
      "ARP Acc: 0.958333\n",
      "Iter: 00896\n",
      "ARP Acc: 0.946429\n",
      "Iter: 00924\n",
      "ARP Acc: 0.952381\n",
      "Iter: 00952\n",
      "ARP Acc: 0.940476\n",
      "Iter: 00980\n",
      "ARP Acc: 0.958333\n",
      "Iter: 01008\n",
      "ARP Acc: 0.934524\n",
      "Iter: 01036\n",
      "ARP Acc: 0.946429\n",
      "Iter: 01064\n",
      "ARP Acc: 0.934524\n",
      "Iter: 01092\n",
      "ARP Acc: 0.961310\n",
      "Iter: 01120\n",
      "ARP Acc: 0.940476\n",
      "Iter: 01148\n",
      "ARP Acc: 0.952381\n",
      "Iter: 01176\n",
      "ARP Acc: 0.964286\n",
      "Iter: 01204\n",
      "ARP Acc: 0.961310\n",
      "Iter: 01232\n",
      "ARP Acc: 0.961310\n",
      "Iter: 01260\n",
      "ARP Acc: 0.967262\n",
      "Iter: 01288\n",
      "ARP Acc: 0.970238\n",
      "Iter: 01316\n",
      "ARP Acc: 0.955357\n",
      "Iter: 01344\n",
      "ARP Acc: 0.967262\n",
      "Iter: 01372\n",
      "ARP Acc: 0.961310\n",
      "Iter: 01400\n",
      "ARP Acc: 0.958333\n",
      "Iter: 01428\n",
      "ARP Acc: 0.958333\n",
      "Iter: 01456\n",
      "ARP Acc: 0.961310\n",
      "Iter: 01484\n",
      "ARP Acc: 0.964286\n",
      "Iter: 01512\n",
      "ARP Acc: 0.949405\n",
      "Iter: 01540\n",
      "ARP Acc: 0.961310\n",
      "Iter: 01568\n",
      "ARP Acc: 0.964286\n",
      "Iter: 01596\n",
      "ARP Acc: 0.952381\n",
      "Iter: 01624\n",
      "ARP Acc: 0.961310\n",
      "Iter: 01652\n",
      "ARP Acc: 0.958333\n",
      "Iter: 01680\n",
      "ARP Acc: 0.961310\n",
      "Iter: 01708\n",
      "ARP Acc: 0.958333\n",
      "Iter: 01736\n",
      "ARP Acc: 0.955357\n",
      "Iter: 01764\n",
      "ARP Acc: 0.949405\n",
      "Iter: 01792\n",
      "ARP Acc: 0.958333\n",
      "Iter: 01820\n",
      "ARP Acc: 0.958333\n",
      "Iter: 01848\n",
      "ARP Acc: 0.955357\n",
      "Iter: 01876\n",
      "ARP Acc: 0.958333\n",
      "Iter: 01904\n",
      "ARP Acc: 0.952381\n",
      "Iter: 01932\n",
      "ARP Acc: 0.958333\n",
      "Iter: 01960\n",
      "ARP Acc: 0.955357\n",
      "Iter: 01988\n",
      "ARP Acc: 0.949405\n",
      "Iter: 02016\n",
      "ARP Acc: 0.949405\n",
      "Iter: 02044\n",
      "ARP Acc: 0.958333\n",
      "Iter: 02072\n",
      "ARP Acc: 0.946429\n",
      "Iter: 02100\n",
      "ARP Acc: 0.955357\n",
      "Iter: 02128\n",
      "ARP Acc: 0.946429\n",
      "Iter: 02156\n",
      "ARP Acc: 0.955357\n",
      "Iter: 02184\n",
      "ARP Acc: 0.964286\n",
      "Iter: 02212\n",
      "ARP Acc: 0.943452\n",
      "Iter: 02240\n",
      "ARP Acc: 0.955357\n"
     ]
    }
   ],
   "source": [
    "# Num_segments: 3\n",
    "for scorefile in saag01_arp_3seg_files:\n",
    "    itername, _ = os.path.splitext(scorefile)\n",
    "    itername = extract_index(itername)\n",
    "    \n",
    "    print(\"Iter: %s\" % itername)\n",
    "    scores = np.load(scorefile)\n",
    "    pred1 = np.argmax(scores, axis=1)\n",
    "    acc = np.mean(pred1 == labels)\n",
    "    print(\"ARP Acc: %f\" % acc)"
   ]
  },
  {
   "cell_type": "code",
   "execution_count": 73,
   "metadata": {},
   "outputs": [
    {
     "name": "stdout",
     "output_type": "stream",
     "text": [
      "Iter: 00028\n",
      "ARP Acc: 0.750000\n",
      "Iter: 00056\n",
      "ARP Acc: 0.851190\n",
      "Iter: 00084\n",
      "ARP Acc: 0.889881\n",
      "Iter: 00112\n",
      "ARP Acc: 0.866071\n",
      "Iter: 00140\n",
      "ARP Acc: 0.872024\n",
      "Iter: 00168\n",
      "ARP Acc: 0.898810\n",
      "Iter: 00196\n",
      "ARP Acc: 0.892857\n",
      "Iter: 00224\n",
      "ARP Acc: 0.922619\n",
      "Iter: 00252\n",
      "ARP Acc: 0.928571\n",
      "Iter: 00280\n",
      "ARP Acc: 0.925595\n",
      "Iter: 00308\n",
      "ARP Acc: 0.925595\n",
      "Iter: 00336\n",
      "ARP Acc: 0.919643\n",
      "Iter: 00364\n",
      "ARP Acc: 0.925595\n",
      "Iter: 00392\n",
      "ARP Acc: 0.931548\n",
      "Iter: 00420\n",
      "ARP Acc: 0.946429\n",
      "Iter: 00448\n",
      "ARP Acc: 0.934524\n",
      "Iter: 00476\n",
      "ARP Acc: 0.922619\n",
      "Iter: 00504\n",
      "ARP Acc: 0.919643\n",
      "Iter: 00532\n",
      "ARP Acc: 0.931548\n",
      "Iter: 00560\n",
      "ARP Acc: 0.943452\n",
      "Iter: 00588\n",
      "ARP Acc: 0.952381\n",
      "Iter: 00616\n",
      "ARP Acc: 0.952381\n",
      "Iter: 00644\n",
      "ARP Acc: 0.958333\n",
      "Iter: 00672\n",
      "ARP Acc: 0.955357\n",
      "Iter: 00700\n",
      "ARP Acc: 0.949405\n",
      "Iter: 00728\n",
      "ARP Acc: 0.946429\n",
      "Iter: 00756\n",
      "ARP Acc: 0.946429\n",
      "Iter: 00784\n",
      "ARP Acc: 0.949405\n",
      "Iter: 00812\n",
      "ARP Acc: 0.952381\n",
      "Iter: 00840\n",
      "ARP Acc: 0.946429\n",
      "Iter: 00868\n",
      "ARP Acc: 0.946429\n",
      "Iter: 00896\n",
      "ARP Acc: 0.952381\n",
      "Iter: 00924\n",
      "ARP Acc: 0.946429\n",
      "Iter: 00952\n",
      "ARP Acc: 0.952381\n",
      "Iter: 00980\n",
      "ARP Acc: 0.958333\n",
      "Iter: 01008\n",
      "ARP Acc: 0.952381\n",
      "Iter: 01036\n",
      "ARP Acc: 0.949405\n",
      "Iter: 01064\n",
      "ARP Acc: 0.958333\n",
      "Iter: 01092\n",
      "ARP Acc: 0.946429\n",
      "Iter: 01120\n",
      "ARP Acc: 0.952381\n",
      "Iter: 01148\n",
      "ARP Acc: 0.952381\n",
      "Iter: 01176\n",
      "ARP Acc: 0.952381\n",
      "Iter: 01204\n",
      "ARP Acc: 0.946429\n",
      "Iter: 01232\n",
      "ARP Acc: 0.952381\n",
      "Iter: 01260\n",
      "ARP Acc: 0.949405\n",
      "Iter: 01288\n",
      "ARP Acc: 0.952381\n",
      "Iter: 01316\n",
      "ARP Acc: 0.952381\n",
      "Iter: 01344\n",
      "ARP Acc: 0.952381\n",
      "Iter: 01372\n",
      "ARP Acc: 0.952381\n",
      "Iter: 01400\n",
      "ARP Acc: 0.949405\n",
      "Iter: 01428\n",
      "ARP Acc: 0.949405\n",
      "Iter: 01456\n",
      "ARP Acc: 0.952381\n",
      "Iter: 01484\n",
      "ARP Acc: 0.949405\n",
      "Iter: 01512\n",
      "ARP Acc: 0.946429\n",
      "Iter: 01540\n",
      "ARP Acc: 0.952381\n",
      "Iter: 01568\n",
      "ARP Acc: 0.955357\n",
      "Iter: 01596\n",
      "ARP Acc: 0.949405\n",
      "Iter: 01624\n",
      "ARP Acc: 0.949405\n",
      "Iter: 01652\n",
      "ARP Acc: 0.949405\n",
      "Iter: 01680\n",
      "ARP Acc: 0.943452\n",
      "Iter: 01708\n",
      "ARP Acc: 0.946429\n",
      "Iter: 01736\n",
      "ARP Acc: 0.949405\n",
      "Iter: 01764\n",
      "ARP Acc: 0.952381\n",
      "Iter: 01792\n",
      "ARP Acc: 0.946429\n",
      "Iter: 01820\n",
      "ARP Acc: 0.952381\n",
      "Iter: 01848\n",
      "ARP Acc: 0.949405\n",
      "Iter: 01876\n",
      "ARP Acc: 0.949405\n",
      "Iter: 01904\n",
      "ARP Acc: 0.949405\n",
      "Iter: 01932\n",
      "ARP Acc: 0.946429\n",
      "Iter: 01960\n",
      "ARP Acc: 0.955357\n",
      "Iter: 01988\n",
      "ARP Acc: 0.952381\n",
      "Iter: 02016\n",
      "ARP Acc: 0.955357\n",
      "Iter: 02044\n",
      "ARP Acc: 0.952381\n",
      "Iter: 02072\n",
      "ARP Acc: 0.952381\n",
      "Iter: 02100\n",
      "ARP Acc: 0.946429\n",
      "Iter: 02128\n",
      "ARP Acc: 0.952381\n",
      "Iter: 02156\n",
      "ARP Acc: 0.955357\n",
      "Iter: 02184\n",
      "ARP Acc: 0.952381\n",
      "Iter: 02212\n",
      "ARP Acc: 0.952381\n",
      "Iter: 02240\n",
      "ARP Acc: 0.952381\n"
     ]
    }
   ],
   "source": [
    "# Num segments: 7\n",
    "for scorefile in saag01_arp_7seg_files:\n",
    "    itername, _ = os.path.splitext(scorefile)\n",
    "    itername = extract_index(itername)\n",
    "    \n",
    "    print(\"Iter: %s\" % itername)\n",
    "    scores = np.load(scorefile)\n",
    "    pred1 = np.argmax(scores, axis=1)\n",
    "    acc = np.mean(pred1 == labels)\n",
    "    print(\"ARP Acc: %f\" % acc)"
   ]
  },
  {
   "cell_type": "markdown",
   "metadata": {},
   "source": [
    "#### 2. Test results"
   ]
  },
  {
   "cell_type": "code",
   "execution_count": null,
   "metadata": {},
   "outputs": [],
   "source": [
    "# load test labels\n",
    "split_test_file = 'saag01_test_split.txt'\n",
    "test_labels_df = pd.read_csv(split_test_file, \n",
    "                       delim_whitespace=True,\n",
    "                       header=None,\n",
    "                       names=['path', 'n_frames', 'label']\n",
    "                      )\n",
    "test_labels = test_labels_df['label']"
   ]
  },
  {
   "cell_type": "code",
   "execution_count": 77,
   "metadata": {},
   "outputs": [],
   "source": [
    "# Num_segments: 3\n",
    "test_score_file = os.path.join(SAAG01_ARP_3seg_dir,\n",
    "                               'saag01_bni_arp_seg_3_test_scores.npy')"
   ]
  },
  {
   "cell_type": "code",
   "execution_count": 78,
   "metadata": {},
   "outputs": [
    {
     "data": {
      "text/plain": [
       "(190,)"
      ]
     },
     "execution_count": 78,
     "metadata": {},
     "output_type": "execute_result"
    }
   ],
   "source": [
    "test_labels.shape"
   ]
  },
  {
   "cell_type": "code",
   "execution_count": 85,
   "metadata": {},
   "outputs": [
    {
     "name": "stdout",
     "output_type": "stream",
     "text": [
      "Test iterations\n",
      "ARP Test Acc: 0.957895\n"
     ]
    }
   ],
   "source": [
    "# Num_segments: 3\n",
    "print(\"Test iterations\")\n",
    "scores = np.load(test_score_file)\n",
    "pred1 = np.argmax(scores, axis=1)\n",
    "acc = np.mean(pred1 == test_labels)\n",
    "print(\"ARP Test Acc: %f\" % acc)"
   ]
  },
  {
   "cell_type": "code",
   "execution_count": 87,
   "metadata": {},
   "outputs": [],
   "source": [
    "# Num_segments: 7\n",
    "test_score_file = os.path.join(SAAG01_ARP_7seg_dir,\n",
    "                               'saag01_bni_arp_seg_7_test_scores.npy')"
   ]
  },
  {
   "cell_type": "code",
   "execution_count": 88,
   "metadata": {},
   "outputs": [
    {
     "name": "stdout",
     "output_type": "stream",
     "text": [
      "Test iterations\n",
      "ARP Test Acc: 0.942105\n"
     ]
    }
   ],
   "source": [
    "# Num_segments: 7\n",
    "print(\"Test iterations\")\n",
    "scores = np.load(test_score_file)\n",
    "pred1 = np.argmax(scores, axis=1)\n",
    "acc = np.mean(pred1 == test_labels)\n",
    "print(\"ARP Test Acc: %f\" % acc)"
   ]
  },
  {
   "cell_type": "code",
   "execution_count": 90,
   "metadata": {},
   "outputs": [
    {
     "data": {
      "text/html": [
       "<div>\n",
       "<style scoped>\n",
       "    .dataframe tbody tr th:only-of-type {\n",
       "        vertical-align: middle;\n",
       "    }\n",
       "\n",
       "    .dataframe tbody tr th {\n",
       "        vertical-align: top;\n",
       "    }\n",
       "\n",
       "    .dataframe thead th {\n",
       "        text-align: right;\n",
       "    }\n",
       "</style>\n",
       "<table border=\"1\" class=\"dataframe\">\n",
       "  <thead>\n",
       "    <tr style=\"text-align: right;\">\n",
       "      <th></th>\n",
       "      <th>Saa-Aggression</th>\n",
       "    </tr>\n",
       "  </thead>\n",
       "  <tbody>\n",
       "    <tr>\n",
       "      <th>ARP (3 segments)</th>\n",
       "      <td>0.957895</td>\n",
       "    </tr>\n",
       "    <tr>\n",
       "      <th>ARP (7 segments)</th>\n",
       "      <td>0.942105</td>\n",
       "    </tr>\n",
       "  </tbody>\n",
       "</table>\n",
       "</div>"
      ],
      "text/plain": [
       "                  Saa-Aggression\n",
       "ARP (3 segments)        0.957895\n",
       "ARP (7 segments)        0.942105"
      ]
     },
     "execution_count": 90,
     "metadata": {},
     "output_type": "execute_result"
    }
   ],
   "source": [
    "inference_summary = {\n",
    "    'Saa-Aggression': {\n",
    "        'ARP (3 segments)': 0.957895,\n",
    "        'ARP (7 segments)': 0.942105\n",
    "    }\n",
    "}\n",
    "\n",
    "pd.DataFrame(inference_summary)"
   ]
  },
  {
   "cell_type": "code",
   "execution_count": null,
   "metadata": {},
   "outputs": [],
   "source": []
  }
 ],
 "metadata": {
  "kernelspec": {
   "display_name": "Python 3",
   "language": "python",
   "name": "python3"
  },
  "language_info": {
   "codemirror_mode": {
    "name": "ipython",
    "version": 3
   },
   "file_extension": ".py",
   "mimetype": "text/x-python",
   "name": "python",
   "nbconvert_exporter": "python",
   "pygments_lexer": "ipython3",
   "version": "3.6.8"
  }
 },
 "nbformat": 4,
 "nbformat_minor": 2
}
